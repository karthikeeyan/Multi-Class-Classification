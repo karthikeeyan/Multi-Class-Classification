{
 "cells": [
  {
   "cell_type": "markdown",
   "id": "ad7b16d6",
   "metadata": {},
   "source": [
    "## 1.import necessary libraries"
   ]
  },
  {
   "cell_type": "code",
   "execution_count": 29,
   "id": "fa13ff15",
   "metadata": {},
   "outputs": [],
   "source": [
    "import tensorflow as tf"
   ]
  },
  {
   "cell_type": "code",
   "execution_count": 30,
   "id": "4b87aae5",
   "metadata": {},
   "outputs": [
    {
     "data": {
      "text/plain": [
       "'2.8.0'"
      ]
     },
     "execution_count": 30,
     "metadata": {},
     "output_type": "execute_result"
    }
   ],
   "source": [
    "tf.__version__"
   ]
  },
  {
   "cell_type": "markdown",
   "id": "a9e2ca23",
   "metadata": {},
   "source": [
    "## 2. Import Data Using Image Augementation "
   ]
  },
  {
   "cell_type": "code",
   "execution_count": 31,
   "id": "7b180fa8",
   "metadata": {},
   "outputs": [],
   "source": [
    "from keras.preprocessing.image import ImageDataGenerator"
   ]
  },
  {
   "cell_type": "code",
   "execution_count": 32,
   "id": "7b1e9e9b",
   "metadata": {},
   "outputs": [],
   "source": [
    "train_data          = ImageDataGenerator(rescale=1./255,horizontal_flip=True,vertical_flip=True,shear_range=0.2,zoom_range=0.2)\n",
    "validation_data     = ImageDataGenerator(rescale=1./255)\n",
    "test_data           = ImageDataGenerator(rescale=1./255)"
   ]
  },
  {
   "cell_type": "code",
   "execution_count": 33,
   "id": "587c2cd9",
   "metadata": {},
   "outputs": [
    {
     "name": "stdout",
     "output_type": "stream",
     "text": [
      "Found 60 images belonging to 4 classes.\n",
      "Found 12 images belonging to 4 classes.\n",
      "Found 12 images belonging to 4 classes.\n"
     ]
    }
   ],
   "source": [
    "train_path       = train_data.flow_from_directory(directory =r'D:\\DP_MULTICLASS_PROJECT\\Training',target_size=(256, 256),class_mode='categorical')\n",
    "\n",
    "validation_path  = validation_data.flow_from_directory(directory =r'D:\\DP_MULTICLASS_PROJECT\\Validation',target_size=(256, 256),class_mode='categorical')\n",
    "\n",
    "test_path        = test_data.flow_from_directory(directory =r'D:\\DP_MULTICLASS_PROJECT\\Testing',target_size=(256, 256),class_mode='categorical')"
   ]
  },
  {
   "cell_type": "code",
   "execution_count": 34,
   "id": "2d61b90d",
   "metadata": {},
   "outputs": [
    {
     "data": {
      "text/plain": [
       "{'DHONI': 0, 'KOHLI': 1, 'ROHIT': 2, 'YUVARAJ': 3}"
      ]
     },
     "execution_count": 34,
     "metadata": {},
     "output_type": "execute_result"
    }
   ],
   "source": [
    "train_path.class_indices"
   ]
  },
  {
   "cell_type": "markdown",
   "id": "8196306f",
   "metadata": {},
   "source": [
    "## 3.BUILD ARCHITECTURE"
   ]
  },
  {
   "cell_type": "code",
   "execution_count": 35,
   "id": "655df482",
   "metadata": {},
   "outputs": [],
   "source": [
    "from keras.models import Sequential\n",
    "from keras.layers import Flatten,Dense,Conv2D,Dropout,MaxPool2D"
   ]
  },
  {
   "cell_type": "markdown",
   "id": "ff1e6d98",
   "metadata": {},
   "source": [
    "### 3.1 Create a Architecture"
   ]
  },
  {
   "cell_type": "code",
   "execution_count": 36,
   "id": "c84afdec",
   "metadata": {},
   "outputs": [
    {
     "name": "stdout",
     "output_type": "stream",
     "text": [
      "Model: \"sequential_11\"\n",
      "_________________________________________________________________\n",
      " Layer (type)                Output Shape              Param #   \n",
      "=================================================================\n",
      " conv2d_12 (Conv2D)          (None, 256, 256, 16)      1216      \n",
      "                                                                 \n",
      " max_pooling2d_10 (MaxPoolin  (None, 128, 128, 16)     0         \n",
      " g2D)                                                            \n",
      "                                                                 \n",
      " conv2d_13 (Conv2D)          (None, 128, 128, 32)      12832     \n",
      "                                                                 \n",
      " max_pooling2d_11 (MaxPoolin  (None, 64, 64, 32)       0         \n",
      " g2D)                                                            \n",
      "                                                                 \n",
      " flatten_3 (Flatten)         (None, 131072)            0         \n",
      "                                                                 \n",
      " dense_10 (Dense)            (None, 2000)              262146000 \n",
      "                                                                 \n",
      " dropout (Dropout)           (None, 2000)              0         \n",
      "                                                                 \n",
      " dense_11 (Dense)            (None, 1000)              2001000   \n",
      "                                                                 \n",
      " dropout_1 (Dropout)         (None, 1000)              0         \n",
      "                                                                 \n",
      " dense_12 (Dense)            (None, 400)               400400    \n",
      "                                                                 \n",
      " dropout_2 (Dropout)         (None, 400)               0         \n",
      "                                                                 \n",
      " dense_13 (Dense)            (None, 4)                 1604      \n",
      "                                                                 \n",
      "=================================================================\n",
      "Total params: 264,563,052\n",
      "Trainable params: 264,563,052\n",
      "Non-trainable params: 0\n",
      "_________________________________________________________________\n"
     ]
    }
   ],
   "source": [
    "model =Sequential()\n",
    "model.add(Conv2D(input_shape = (256,256,3),filters=16,kernel_size=(5,5),strides=1,padding='same',activation='relu'))\n",
    "model.add(MaxPool2D(pool_size=(2, 2),strides=2))\n",
    "model.add(Conv2D(filters=32,kernel_size=(5,5),strides=1,padding='same',activation='relu'))\n",
    "model.add(MaxPool2D(pool_size=(2, 2),strides=2))\n",
    "model.add(Flatten())\n",
    "model.add(Dense(units=2000,activation='relu'))\n",
    "model.add(Dropout(0.30))\n",
    "model.add(Dense(units=1000,activation='relu'))\n",
    "model.add(Dropout(0.30))\n",
    "model.add(Dense(units=400,activation='relu'))\n",
    "model.add(Dropout(0.30))\n",
    "model.add(Dense(units=4,activation='softmax'))\n",
    "model.summary()"
   ]
  },
  {
   "cell_type": "markdown",
   "id": "34761777",
   "metadata": {},
   "source": [
    "### 3.2 Compilation"
   ]
  },
  {
   "cell_type": "code",
   "execution_count": 37,
   "id": "46e8cf14",
   "metadata": {},
   "outputs": [],
   "source": [
    "model.compile(optimizer='adam',loss='categorical_crossentropy',metrics='accuracy')"
   ]
  },
  {
   "cell_type": "markdown",
   "id": "f41d5022",
   "metadata": {},
   "source": [
    "### 3.3 Train the model"
   ]
  },
  {
   "cell_type": "code",
   "execution_count": 38,
   "id": "d1997121",
   "metadata": {},
   "outputs": [
    {
     "name": "stdout",
     "output_type": "stream",
     "text": [
      "Epoch 1/10\n",
      "2/2 [==============================] - 40s 26s/step - loss: 10.1523 - accuracy: 0.2333 - val_loss: 16.1887 - val_accuracy: 0.2500\n",
      "Epoch 2/10\n",
      "2/2 [==============================] - 18s 9s/step - loss: 12.8566 - accuracy: 0.3167 - val_loss: 4.8707 - val_accuracy: 0.2500\n",
      "Epoch 3/10\n",
      "2/2 [==============================] - 15s 6s/step - loss: 4.2390 - accuracy: 0.2500 - val_loss: 1.4989 - val_accuracy: 0.3333\n",
      "Epoch 4/10\n",
      "2/2 [==============================] - 15s 8s/step - loss: 1.4727 - accuracy: 0.2500 - val_loss: 1.3891 - val_accuracy: 0.3333\n",
      "Epoch 5/10\n",
      "2/2 [==============================] - 16s 7s/step - loss: 1.3870 - accuracy: 0.3333 - val_loss: 1.3886 - val_accuracy: 0.2500\n",
      "Epoch 6/10\n",
      "2/2 [==============================] - 15s 7s/step - loss: 1.3836 - accuracy: 0.3000 - val_loss: 1.3876 - val_accuracy: 0.2500\n",
      "Epoch 7/10\n",
      "2/2 [==============================] - 15s 7s/step - loss: 1.3956 - accuracy: 0.1833 - val_loss: 1.4012 - val_accuracy: 0.2500\n",
      "Epoch 8/10\n",
      "2/2 [==============================] - 17s 7s/step - loss: 1.3816 - accuracy: 0.1500 - val_loss: 1.3993 - val_accuracy: 0.2500\n",
      "Epoch 9/10\n",
      "2/2 [==============================] - 15s 7s/step - loss: 1.3750 - accuracy: 0.3333 - val_loss: 1.3993 - val_accuracy: 0.2500\n",
      "Epoch 10/10\n",
      "2/2 [==============================] - 15s 8s/step - loss: 1.3872 - accuracy: 0.2833 - val_loss: 1.4102 - val_accuracy: 0.2500\n"
     ]
    }
   ],
   "source": [
    "model_training=model.fit(x = train_path,batch_size=32,epochs=10,validation_data=validation_path,verbose=1)"
   ]
  },
  {
   "cell_type": "code",
   "execution_count": 39,
   "id": "a0751a4f",
   "metadata": {},
   "outputs": [],
   "source": [
    "model.save('multiclass_model.h5')"
   ]
  },
  {
   "cell_type": "markdown",
   "id": "209c6c25",
   "metadata": {},
   "source": [
    "## Model prediction"
   ]
  },
  {
   "cell_type": "code",
   "execution_count": 41,
   "id": "8527907b",
   "metadata": {},
   "outputs": [
    {
     "name": "stdout",
     "output_type": "stream",
     "text": [
      "YUVARAJ SINGH\n"
     ]
    }
   ],
   "source": [
    "from keras.models import load_model\n",
    "import numpy as np\n",
    "from keras.preprocessing import image\n",
    "\n",
    "test_image=image.load_img(r'D:\\DP_MULTICLASS_PROJECT\\Testing\\YUVARJ\\3.jpg',target_size=(256,256))\n",
    "test_image=image.img_to_array(test_image)\n",
    "test_image=np.expand_dims(test_image,axis=0)\n",
    "\n",
    "#load model\n",
    "model = load_model('multiclass_model.h5')\n",
    "result = model.predict(test_image)\n",
    "\n",
    "if result[0][0] ==1:\n",
    "  prediction ='DHONI'\n",
    "  print(prediction)\n",
    "elif result[0][1]==1:\n",
    "  prediction ='kOHLI'\n",
    "  print(prediction)\n",
    "elif result[0][2]==1:\n",
    "  prediction ='ROHIT'\n",
    "  print(prediction)\n",
    "else:\n",
    "  prediction ='YUVARAJ SINGH'\n",
    "  print(prediction)"
   ]
  },
  {
   "cell_type": "code",
   "execution_count": null,
   "id": "c8b9a3a2",
   "metadata": {},
   "outputs": [],
   "source": []
  }
 ],
 "metadata": {
  "kernelspec": {
   "display_name": "Python 3 (ipykernel)",
   "language": "python",
   "name": "python3"
  },
  "language_info": {
   "codemirror_mode": {
    "name": "ipython",
    "version": 3
   },
   "file_extension": ".py",
   "mimetype": "text/x-python",
   "name": "python",
   "nbconvert_exporter": "python",
   "pygments_lexer": "ipython3",
   "version": "3.9.7"
  }
 },
 "nbformat": 4,
 "nbformat_minor": 5
}
